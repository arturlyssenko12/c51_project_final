{
 "cells": [
  {
   "cell_type": "code",
   "execution_count": 28,
   "metadata": {},
   "outputs": [
    {
     "data": {
      "text/html": [
       "<div>\n",
       "<style scoped>\n",
       "    .dataframe tbody tr th:only-of-type {\n",
       "        vertical-align: middle;\n",
       "    }\n",
       "\n",
       "    .dataframe tbody tr th {\n",
       "        vertical-align: top;\n",
       "    }\n",
       "\n",
       "    .dataframe thead th {\n",
       "        text-align: right;\n",
       "    }\n",
       "</style>\n",
       "<table border=\"1\" class=\"dataframe\">\n",
       "  <thead>\n",
       "    <tr style=\"text-align: right;\">\n",
       "      <th></th>\n",
       "      <th>category</th>\n",
       "      <th>ns_day</th>\n",
       "    </tr>\n",
       "  </thead>\n",
       "  <tbody>\n",
       "    <tr>\n",
       "      <th>0</th>\n",
       "      <td>mace_small_inference_train_dat.csv</td>\n",
       "      <td>0.692505</td>\n",
       "    </tr>\n",
       "    <tr>\n",
       "      <th>1</th>\n",
       "      <td>mace_small_inference.csv</td>\n",
       "      <td>5.054621</td>\n",
       "    </tr>\n",
       "    <tr>\n",
       "      <th>2</th>\n",
       "      <td>mace_large_inference.csv</td>\n",
       "      <td>4.115202</td>\n",
       "    </tr>\n",
       "    <tr>\n",
       "      <th>3</th>\n",
       "      <td>e2gnn_hessian_inference_train_dat.csv</td>\n",
       "      <td>5.318372</td>\n",
       "    </tr>\n",
       "    <tr>\n",
       "      <th>4</th>\n",
       "      <td>e2gnn_hessian_inference.csv</td>\n",
       "      <td>13.015041</td>\n",
       "    </tr>\n",
       "  </tbody>\n",
       "</table>\n",
       "</div>"
      ],
      "text/plain": [
       "                                category     ns_day\n",
       "0     mace_small_inference_train_dat.csv   0.692505\n",
       "1               mace_small_inference.csv   5.054621\n",
       "2               mace_large_inference.csv   4.115202\n",
       "3  e2gnn_hessian_inference_train_dat.csv   5.318372\n",
       "4            e2gnn_hessian_inference.csv  13.015041"
      ]
     },
     "execution_count": 28,
     "metadata": {},
     "output_type": "execute_result"
    }
   ],
   "source": [
    "import os\n",
    "import pandas as pd\n",
    "\n",
    "# Base directory containing your result subdirectories\n",
    "base_dir = '/home/alyssenko/c51_project/results_for_analysis'\n",
    "\n",
    "# Collect all ns_day values into a single DataFrame\n",
    "records = []\n",
    "for root, dirs, files in os.walk(base_dir):\n",
    "    for fname in files:\n",
    "        if \"_inference\" in fname and fname.endswith(\".csv\"):\n",
    "            category = os.path.basename(fname)\n",
    "            path = os.path.join(root, fname)\n",
    "            # Only read the ns_day column\n",
    "            df = pd.read_csv(path, usecols=['ns_day'])\n",
    "            # For each ns_day entry, record its category\n",
    "            for ns in df['ns_day']:\n",
    "                records.append({\n",
    "                    'category': category,\n",
    "                    'ns_day': ns\n",
    "                })\n",
    "\n",
    "# Create the combined DataFrame\n",
    "df_all = pd.DataFrame(records)\n",
    "\n",
    "df_all"
   ]
  }
 ],
 "metadata": {
  "kernelspec": {
   "display_name": "e2gnn",
   "language": "python",
   "name": "python3"
  },
  "language_info": {
   "codemirror_mode": {
    "name": "ipython",
    "version": 3
   },
   "file_extension": ".py",
   "mimetype": "text/x-python",
   "name": "python",
   "nbconvert_exporter": "python",
   "pygments_lexer": "ipython3",
   "version": "3.10.17"
  }
 },
 "nbformat": 4,
 "nbformat_minor": 2
}
